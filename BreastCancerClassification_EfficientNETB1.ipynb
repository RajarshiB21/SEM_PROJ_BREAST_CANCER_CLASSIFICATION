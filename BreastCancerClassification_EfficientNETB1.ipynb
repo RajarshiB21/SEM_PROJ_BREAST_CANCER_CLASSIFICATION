{
  "cells": [
    {
      "cell_type": "code",
      "source": [
        "from google.colab import drive\n",
        "drive.mount('/content/drive')"
      ],
      "metadata": {
        "colab": {
          "base_uri": "https://localhost:8080/"
        },
        "id": "6AZAAPpCWRGk",
        "outputId": "50884b7d-3515-4fcf-d2db-45b951ac09b1"
      },
      "id": "6AZAAPpCWRGk",
      "execution_count": null,
      "outputs": [
        {
          "output_type": "stream",
          "name": "stdout",
          "text": [
            "Drive already mounted at /content/drive; to attempt to forcibly remount, call drive.mount(\"/content/drive\", force_remount=True).\n"
          ]
        }
      ]
    },
    {
      "cell_type": "code",
      "execution_count": null,
      "id": "efeded90",
      "metadata": {
        "id": "efeded90"
      },
      "outputs": [],
      "source": [
        "import tensorflow as tf\n",
        "from tensorflow.keras import layers\n",
        "from tensorflow.keras.applications import EfficientNetB1\n",
        "\n",
        "NUM_CLASSES = 2\n",
        "IMG_SIZE = 240\n",
        "size = (IMG_SIZE, IMG_SIZE)\n",
        "\n",
        "inputs = layers.Input(shape=(IMG_SIZE, IMG_SIZE, 3))\n",
        "\n",
        "#Using model without transfer learning\n",
        "\n",
        "outputs = EfficientNetB1(include_top = True, weights = None, classes=NUM_CLASSES)(inputs)"
      ]
    },
    {
      "cell_type": "code",
      "execution_count": null,
      "id": "d9ba2ff5",
      "metadata": {
        "colab": {
          "base_uri": "https://localhost:8080/"
        },
        "id": "d9ba2ff5",
        "outputId": "9e20f628-ccd6-47dc-c98c-3f86f48aa45e"
      },
      "outputs": [
        {
          "output_type": "stream",
          "name": "stdout",
          "text": [
            "Model: \"model\"\n",
            "_________________________________________________________________\n",
            " Layer (type)                Output Shape              Param #   \n",
            "=================================================================\n",
            " input_1 (InputLayer)        [(None, 240, 240, 3)]     0         \n",
            "                                                                 \n",
            " efficientnetb1 (Functional)  (None, 2)                6577801   \n",
            "                                                                 \n",
            "=================================================================\n",
            "Total params: 6,577,801\n",
            "Trainable params: 6,515,746\n",
            "Non-trainable params: 62,055\n",
            "_________________________________________________________________\n"
          ]
        }
      ],
      "source": [
        "model = tf.keras.Model(inputs, outputs)\n",
        "model.compile(optimizer=\"adam\", loss=\"categorical_crossentropy\", metrics=[\"accuracy\"])\n",
        "model.summary()"
      ]
    },
    {
      "cell_type": "code",
      "execution_count": null,
      "id": "0e5f645c",
      "metadata": {
        "id": "0e5f645c"
      },
      "outputs": [],
      "source": [
        "from tensorflow.keras.preprocessing.image import ImageDataGenerator\n",
        "\n",
        "train_datagen = ImageDataGenerator(rescale = 1./255,\n",
        "                                   shear_range = 0.2,\n",
        "                                   zoom_range = 0.2,\n",
        "                                   horizontal_flip = True)\n",
        "\n",
        "test_datagen = ImageDataGenerator(rescale = 1./255)"
      ]
    },
    {
      "cell_type": "code",
      "execution_count": null,
      "id": "18f1f190",
      "metadata": {
        "colab": {
          "base_uri": "https://localhost:8080/"
        },
        "id": "18f1f190",
        "outputId": "32cccdbc-be38-494f-ee74-d3bc60946785"
      },
      "outputs": [
        {
          "output_type": "stream",
          "name": "stdout",
          "text": [
            "Found 2000 images belonging to 2 classes.\n",
            "Found 400 images belonging to 2 classes.\n"
          ]
        }
      ],
      "source": [
        "training_set = train_datagen.flow_from_directory('/content/drive/MyDrive/Projects/DeepLearning/BreastCancer/Dataset_2000/train',\n",
        "                                                 target_size = (IMG_SIZE, IMG_SIZE),\n",
        "                                                 batch_size = 32,\n",
        "                                                 class_mode = 'categorical')\n",
        "\n",
        "test_set = test_datagen.flow_from_directory('/content/drive/MyDrive/Projects/DeepLearning/BreastCancer/Dataset_2000/valid',\n",
        "                                            target_size = (IMG_SIZE, IMG_SIZE),\n",
        "                                            batch_size = 32,\n",
        "                                            class_mode = 'categorical')"
      ]
    },
    {
      "cell_type": "code",
      "execution_count": null,
      "id": "073467c4",
      "metadata": {
        "colab": {
          "base_uri": "https://localhost:8080/"
        },
        "id": "073467c4",
        "outputId": "88c29779-7475-4f9e-ea38-12aaca04e80d"
      },
      "outputs": [
        {
          "output_type": "stream",
          "name": "stderr",
          "text": [
            "/usr/local/lib/python3.7/dist-packages/ipykernel_launcher.py:7: UserWarning: `Model.fit_generator` is deprecated and will be removed in a future version. Please use `Model.fit`, which supports generators.\n",
            "  import sys\n"
          ]
        },
        {
          "output_type": "stream",
          "name": "stdout",
          "text": [
            "Epoch 1/35\n",
            "63/63 [==============================] - 86s 1s/step - loss: 2.0161 - accuracy: 0.5460 - val_loss: 0.7159 - val_accuracy: 0.5000\n",
            "Epoch 2/35\n",
            "63/63 [==============================] - 61s 964ms/step - loss: 1.0371 - accuracy: 0.7335 - val_loss: 0.7365 - val_accuracy: 0.5000\n",
            "Epoch 3/35\n",
            "63/63 [==============================] - 61s 963ms/step - loss: 0.7523 - accuracy: 0.7175 - val_loss: 0.6940 - val_accuracy: 0.5000\n",
            "Epoch 4/35\n",
            "63/63 [==============================] - 61s 963ms/step - loss: 0.7060 - accuracy: 0.7775 - val_loss: 1.0699 - val_accuracy: 0.5000\n",
            "Epoch 5/35\n",
            "63/63 [==============================] - 61s 962ms/step - loss: 0.5077 - accuracy: 0.8065 - val_loss: 0.7328 - val_accuracy: 0.5000\n",
            "Epoch 6/35\n",
            "63/63 [==============================] - 61s 964ms/step - loss: 0.5235 - accuracy: 0.8070 - val_loss: 0.8580 - val_accuracy: 0.5000\n",
            "Epoch 7/35\n",
            "63/63 [==============================] - 61s 961ms/step - loss: 0.4328 - accuracy: 0.8240 - val_loss: 0.7535 - val_accuracy: 0.5000\n",
            "Epoch 8/35\n",
            "63/63 [==============================] - 61s 963ms/step - loss: 0.3812 - accuracy: 0.8255 - val_loss: 0.8994 - val_accuracy: 0.5000\n",
            "Epoch 9/35\n",
            "63/63 [==============================] - 61s 965ms/step - loss: 0.3952 - accuracy: 0.8345 - val_loss: 1.0857 - val_accuracy: 0.5000\n",
            "Epoch 10/35\n",
            "63/63 [==============================] - 61s 963ms/step - loss: 0.4011 - accuracy: 0.8355 - val_loss: 0.7751 - val_accuracy: 0.5000\n",
            "Epoch 11/35\n",
            "63/63 [==============================] - 61s 966ms/step - loss: 0.3530 - accuracy: 0.8415 - val_loss: 0.7623 - val_accuracy: 0.5200\n",
            "Epoch 12/35\n",
            "63/63 [==============================] - 61s 966ms/step - loss: 0.3587 - accuracy: 0.8350 - val_loss: 0.3684 - val_accuracy: 0.8400\n",
            "Epoch 13/35\n",
            "63/63 [==============================] - 61s 965ms/step - loss: 0.3451 - accuracy: 0.8475 - val_loss: 0.6597 - val_accuracy: 0.5900\n",
            "Epoch 14/35\n",
            "63/63 [==============================] - 61s 965ms/step - loss: 0.3422 - accuracy: 0.8500 - val_loss: 0.3576 - val_accuracy: 0.8175\n",
            "Epoch 15/35\n",
            "63/63 [==============================] - 61s 967ms/step - loss: 0.3300 - accuracy: 0.8490 - val_loss: 0.4039 - val_accuracy: 0.8025\n",
            "Epoch 16/35\n",
            "63/63 [==============================] - 61s 965ms/step - loss: 0.3321 - accuracy: 0.8550 - val_loss: 0.2907 - val_accuracy: 0.8650\n",
            "Epoch 17/35\n",
            "63/63 [==============================] - 61s 971ms/step - loss: 0.3210 - accuracy: 0.8585 - val_loss: 0.2998 - val_accuracy: 0.8575\n",
            "Epoch 18/35\n",
            "63/63 [==============================] - 61s 963ms/step - loss: 0.4228 - accuracy: 0.8285 - val_loss: 374.7149 - val_accuracy: 0.5000\n",
            "Epoch 19/35\n",
            "63/63 [==============================] - 61s 965ms/step - loss: 0.3923 - accuracy: 0.8370 - val_loss: 5.2067 - val_accuracy: 0.3100\n",
            "Epoch 20/35\n",
            "63/63 [==============================] - 61s 965ms/step - loss: 0.3637 - accuracy: 0.8400 - val_loss: 0.7917 - val_accuracy: 0.8250\n",
            "Epoch 21/35\n",
            "63/63 [==============================] - 61s 967ms/step - loss: 0.3650 - accuracy: 0.8400 - val_loss: 0.2691 - val_accuracy: 0.8825\n",
            "Epoch 22/35\n",
            "63/63 [==============================] - 61s 964ms/step - loss: 0.3507 - accuracy: 0.8440 - val_loss: 0.2862 - val_accuracy: 0.8750\n",
            "Epoch 23/35\n",
            "63/63 [==============================] - 61s 960ms/step - loss: 0.3574 - accuracy: 0.8535 - val_loss: 0.3018 - val_accuracy: 0.8725\n",
            "Epoch 24/35\n",
            "63/63 [==============================] - 61s 964ms/step - loss: 0.3390 - accuracy: 0.8465 - val_loss: 0.2891 - val_accuracy: 0.8800\n",
            "Epoch 25/35\n",
            "63/63 [==============================] - 61s 964ms/step - loss: 0.3222 - accuracy: 0.8635 - val_loss: 0.3294 - val_accuracy: 0.8800\n",
            "Epoch 26/35\n",
            "63/63 [==============================] - 61s 962ms/step - loss: 0.3133 - accuracy: 0.8585 - val_loss: 0.3860 - val_accuracy: 0.8000\n",
            "Epoch 27/35\n",
            "63/63 [==============================] - 61s 965ms/step - loss: 0.3097 - accuracy: 0.8555 - val_loss: 0.2672 - val_accuracy: 0.8925\n",
            "Epoch 28/35\n",
            "63/63 [==============================] - 61s 966ms/step - loss: 0.3038 - accuracy: 0.8620 - val_loss: 0.3376 - val_accuracy: 0.8575\n",
            "Epoch 29/35\n",
            "63/63 [==============================] - 61s 964ms/step - loss: 0.3308 - accuracy: 0.8760 - val_loss: 0.3757 - val_accuracy: 0.8275\n",
            "Epoch 30/35\n",
            "63/63 [==============================] - 61s 965ms/step - loss: 0.3169 - accuracy: 0.8575 - val_loss: 0.2946 - val_accuracy: 0.8600\n",
            "Epoch 31/35\n",
            "63/63 [==============================] - 61s 964ms/step - loss: 0.3076 - accuracy: 0.8735 - val_loss: 0.5109 - val_accuracy: 0.7800\n",
            "Epoch 32/35\n",
            "63/63 [==============================] - 61s 966ms/step - loss: 0.2880 - accuracy: 0.8695 - val_loss: 0.2868 - val_accuracy: 0.8750\n",
            "Epoch 33/35\n",
            "63/63 [==============================] - 61s 962ms/step - loss: 0.2985 - accuracy: 0.8795 - val_loss: 0.3015 - val_accuracy: 0.8775\n",
            "Epoch 34/35\n",
            "63/63 [==============================] - 61s 965ms/step - loss: 0.2997 - accuracy: 0.8555 - val_loss: 0.2839 - val_accuracy: 0.8825\n",
            "Epoch 35/35\n",
            "63/63 [==============================] - 61s 965ms/step - loss: 0.3287 - accuracy: 0.8665 - val_loss: 0.7236 - val_accuracy: 0.6800\n"
          ]
        }
      ],
      "source": [
        "r = model.fit_generator(\n",
        "  training_set,\n",
        "  validation_data=test_set,\n",
        "  epochs=35,\n",
        "  steps_per_epoch=len(training_set),\n",
        "  validation_steps=len(test_set),\n",
        "  shuffle = True\n",
        ")"
      ]
    },
    {
      "cell_type": "code",
      "execution_count": null,
      "id": "14ff22e7",
      "metadata": {
        "colab": {
          "base_uri": "https://localhost:8080/",
          "height": 530
        },
        "id": "14ff22e7",
        "outputId": "1311a722-4cb6-4ac1-f25c-57b85630540e"
      },
      "outputs": [
        {
          "output_type": "display_data",
          "data": {
            "text/plain": [
              "<Figure size 432x288 with 1 Axes>"
            ],
            "image/png": "[encoded data removed]"
          },
          "metadata": {
            "needs_background": "light"
          }
        },
        {
          "output_type": "display_data",
          "data": {
            "text/plain": [
              "<Figure size 432x288 with 1 Axes>"
            ],
            "image/png": "[encoded data removed]"
          },
          "metadata": {
            "needs_background": "light"
          }
        },
        {
          "output_type": "display_data",
          "data": {
            "text/plain": [
              "<Figure size 432x288 with 0 Axes>"
            ]
          },
          "metadata": {}
        }
      ],
      "source": [
        "import matplotlib.pyplot as plt\n",
        "\n",
        "plt.plot(r.history['loss'], label='train loss')\n",
        "plt.plot(r.history['val_loss'], label='val loss')\n",
        "plt.legend()\n",
        "plt.show()\n",
        "plt.savefig('LossVal_loss')\n",
        "\n",
        "# plot the accuracy\n",
        "plt.plot(r.history['accuracy'], label='train acc')\n",
        "plt.plot(r.history['val_accuracy'], label='val acc')\n",
        "plt.legend()\n",
        "plt.show()\n",
        "plt.savefig('AccVal_acc')"
      ]
    },
    {
      "cell_type": "code",
      "execution_count": null,
      "id": "dda8b54c",
      "metadata": {
        "id": "dda8b54c"
      },
      "outputs": [],
      "source": [
        ""
      ]
    }
  ],
  "metadata": {
    "kernelspec": {
      "display_name": "Python 3 (ipykernel)",
      "language": "python",
      "name": "python3"
    },
    "language_info": {
      "codemirror_mode": {
        "name": "ipython",
        "version": 3
      },
      "file_extension": ".py",
      "mimetype": "text/x-python",
      "name": "python",
      "nbconvert_exporter": "python",
      "pygments_lexer": "ipython3",
      "version": "3.9.0"
    },
    "colab": {
      "name": "BreastCancerClassification_EfficientNETB1.ipynb",
      "provenance": [],
      "collapsed_sections": []
    },
    "accelerator": "GPU"
  },
  "nbformat": 4,
  "nbformat_minor": 5
}