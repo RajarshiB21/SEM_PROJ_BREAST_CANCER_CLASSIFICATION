{
  "cells": [
    {
      "cell_type": "code",
      "source": [
        "from google.colab import drive\n",
        "drive.mount('/content/drive')"
      ],
      "metadata": {
        "colab": {
          "base_uri": "https://localhost:8080/"
        },
        "id": "6AZAAPpCWRGk",
        "outputId": "a06c9118-a9cc-440e-9446-ee589fe215b2"
      },
      "id": "6AZAAPpCWRGk",
      "execution_count": 1,
      "outputs": [
        {
          "output_type": "stream",
          "name": "stdout",
          "text": [
            "Drive already mounted at /content/drive; to attempt to forcibly remount, call drive.mount(\"/content/drive\", force_remount=True).\n"
          ]
        }
      ]
    },
    {
      "cell_type": "code",
      "execution_count": 2,
      "id": "efeded90",
      "metadata": {
        "id": "efeded90"
      },
      "outputs": [],
      "source": [
        "import tensorflow as tf\n",
        "from tensorflow.keras import layers\n",
        "from tensorflow.keras.applications import EfficientNetB2\n",
        "\n",
        "NUM_CLASSES = 2\n",
        "IMG_SIZE = 260\n",
        "size = (IMG_SIZE, IMG_SIZE)\n",
        "\n",
        "inputs = layers.Input(shape=(IMG_SIZE, IMG_SIZE, 3))\n",
        "\n",
        "#Using model without transfer learning\n",
        "\n",
        "outputs = EfficientNetB2(include_top = True, weights = None, classes=NUM_CLASSES)(inputs)"
      ]
    },
    {
      "cell_type": "code",
      "execution_count": 3,
      "id": "d9ba2ff5",
      "metadata": {
        "colab": {
          "base_uri": "https://localhost:8080/"
        },
        "id": "d9ba2ff5",
        "outputId": "106e5a9f-3a71-4028-9b4c-8159bbe1416d"
      },
      "outputs": [
        {
          "output_type": "stream",
          "name": "stdout",
          "text": [
            "Model: \"model\"\n",
            "_________________________________________________________________\n",
            " Layer (type)                Output Shape              Param #   \n",
            "=================================================================\n",
            " input_1 (InputLayer)        [(None, 260, 260, 3)]     0         \n",
            "                                                                 \n",
            " efficientnetb2 (Functional)  (None, 2)                7771387   \n",
            "                                                                 \n",
            "=================================================================\n",
            "Total params: 7,771,387\n",
            "Trainable params: 7,703,812\n",
            "Non-trainable params: 67,575\n",
            "_________________________________________________________________\n"
          ]
        }
      ],
      "source": [
        "model = tf.keras.Model(inputs, outputs)\n",
        "model.compile(optimizer=\"adam\", loss=\"categorical_crossentropy\", metrics=[\"accuracy\"])\n",
        "model.summary()"
      ]
    },
    {
      "cell_type": "code",
      "execution_count": 4,
      "id": "0e5f645c",
      "metadata": {
        "id": "0e5f645c"
      },
      "outputs": [],
      "source": [
        "from tensorflow.keras.preprocessing.image import ImageDataGenerator\n",
        "\n",
        "train_datagen = ImageDataGenerator(rescale = 1./255,\n",
        "                                   shear_range = 0.2,\n",
        "                                   zoom_range = 0.2,\n",
        "                                   horizontal_flip = True)\n",
        "\n",
        "test_datagen = ImageDataGenerator(rescale = 1./255)"
      ]
    },
    {
      "cell_type": "code",
      "execution_count": 5,
      "id": "18f1f190",
      "metadata": {
        "colab": {
          "base_uri": "https://localhost:8080/"
        },
        "id": "18f1f190",
        "outputId": "9c43ac95-376c-4fe7-8370-8ddf2ef8de65"
      },
      "outputs": [
        {
          "output_type": "stream",
          "name": "stdout",
          "text": [
            "Found 2000 images belonging to 2 classes.\n",
            "Found 400 images belonging to 2 classes.\n"
          ]
        }
      ],
      "source": [
        "training_set = train_datagen.flow_from_directory('/content/drive/MyDrive/Projects/DeepLearning/BreastCancer/Dataset_2000/train',\n",
        "                                                 target_size = (IMG_SIZE, IMG_SIZE),\n",
        "                                                 batch_size = 32,\n",
        "                                                 class_mode = 'categorical')\n",
        "\n",
        "test_set = test_datagen.flow_from_directory('/content/drive/MyDrive/Projects/DeepLearning/BreastCancer/Dataset_2000/valid',\n",
        "                                            target_size = (IMG_SIZE, IMG_SIZE),\n",
        "                                            batch_size = 32,\n",
        "                                            class_mode = 'categorical')"
      ]
    },
    {
      "cell_type": "code",
      "execution_count": 6,
      "id": "073467c4",
      "metadata": {
        "colab": {
          "base_uri": "https://localhost:8080/"
        },
        "id": "073467c4",
        "outputId": "69e9eaaa-ec4e-46f2-cddb-a2d3b8d1198b"
      },
      "outputs": [
        {
          "output_type": "stream",
          "name": "stderr",
          "text": [
            "/usr/local/lib/python3.7/dist-packages/ipykernel_launcher.py:7: UserWarning: `Model.fit_generator` is deprecated and will be removed in a future version. Please use `Model.fit`, which supports generators.\n",
            "  import sys\n"
          ]
        },
        {
          "output_type": "stream",
          "name": "stdout",
          "text": [
            "Epoch 1/35\n",
            "63/63 [==============================] - 139s 2s/step - loss: 2.6929 - accuracy: 0.6365 - val_loss: 0.7086 - val_accuracy: 0.5000\n",
            "Epoch 2/35\n",
            "63/63 [==============================] - 112s 2s/step - loss: 1.2340 - accuracy: 0.7265 - val_loss: 0.6975 - val_accuracy: 0.5000\n",
            "Epoch 3/35\n",
            "63/63 [==============================] - 112s 2s/step - loss: 0.9231 - accuracy: 0.7925 - val_loss: 0.7236 - val_accuracy: 0.5000\n",
            "Epoch 4/35\n",
            "63/63 [==============================] - 112s 2s/step - loss: 0.7245 - accuracy: 0.8045 - val_loss: 0.7037 - val_accuracy: 0.5000\n",
            "Epoch 5/35\n",
            "63/63 [==============================] - 112s 2s/step - loss: 0.5312 - accuracy: 0.8215 - val_loss: 0.9858 - val_accuracy: 0.5000\n",
            "Epoch 6/35\n",
            "63/63 [==============================] - 112s 2s/step - loss: 0.3999 - accuracy: 0.8365 - val_loss: 1.3683 - val_accuracy: 0.5000\n",
            "Epoch 7/35\n",
            "63/63 [==============================] - 112s 2s/step - loss: 0.3814 - accuracy: 0.8360 - val_loss: 0.7628 - val_accuracy: 0.5000\n",
            "Epoch 8/35\n",
            "63/63 [==============================] - 112s 2s/step - loss: 0.4421 - accuracy: 0.8495 - val_loss: 0.9625 - val_accuracy: 0.5000\n",
            "Epoch 9/35\n",
            "63/63 [==============================] - 112s 2s/step - loss: 0.3462 - accuracy: 0.8365 - val_loss: 0.7155 - val_accuracy: 0.5000\n",
            "Epoch 10/35\n",
            "63/63 [==============================] - 112s 2s/step - loss: 0.3569 - accuracy: 0.8505 - val_loss: 0.7829 - val_accuracy: 0.5025\n",
            "Epoch 11/35\n",
            "63/63 [==============================] - 112s 2s/step - loss: 0.4096 - accuracy: 0.8430 - val_loss: 0.5411 - val_accuracy: 0.6150\n",
            "Epoch 12/35\n",
            "63/63 [==============================] - 112s 2s/step - loss: 0.3331 - accuracy: 0.8575 - val_loss: 0.8057 - val_accuracy: 0.5175\n",
            "Epoch 13/35\n",
            "63/63 [==============================] - 112s 2s/step - loss: 0.3515 - accuracy: 0.8440 - val_loss: 0.3849 - val_accuracy: 0.8300\n",
            "Epoch 14/35\n",
            "63/63 [==============================] - 112s 2s/step - loss: 0.4072 - accuracy: 0.8375 - val_loss: 3.4361 - val_accuracy: 0.6375\n",
            "Epoch 15/35\n",
            "63/63 [==============================] - 112s 2s/step - loss: 0.3259 - accuracy: 0.8595 - val_loss: 1.3652 - val_accuracy: 0.8100\n",
            "Epoch 16/35\n",
            "63/63 [==============================] - 112s 2s/step - loss: 0.3195 - accuracy: 0.8595 - val_loss: 0.6015 - val_accuracy: 0.7725\n",
            "Epoch 17/35\n",
            "63/63 [==============================] - 112s 2s/step - loss: 0.3086 - accuracy: 0.8590 - val_loss: 0.3282 - val_accuracy: 0.8925\n",
            "Epoch 18/35\n",
            "63/63 [==============================] - 112s 2s/step - loss: 0.3181 - accuracy: 0.8645 - val_loss: 0.2774 - val_accuracy: 0.8775\n",
            "Epoch 19/35\n",
            "63/63 [==============================] - 112s 2s/step - loss: 0.3088 - accuracy: 0.8675 - val_loss: 0.3392 - val_accuracy: 0.8825\n",
            "Epoch 20/35\n",
            "63/63 [==============================] - 112s 2s/step - loss: 0.3015 - accuracy: 0.8605 - val_loss: 0.3043 - val_accuracy: 0.8600\n",
            "Epoch 21/35\n",
            "63/63 [==============================] - 112s 2s/step - loss: 0.2995 - accuracy: 0.8685 - val_loss: 0.2554 - val_accuracy: 0.8925\n",
            "Epoch 22/35\n",
            "63/63 [==============================] - 112s 2s/step - loss: 0.3337 - accuracy: 0.8585 - val_loss: 2.6378 - val_accuracy: 0.5550\n",
            "Epoch 23/35\n",
            "63/63 [==============================] - 112s 2s/step - loss: 0.2967 - accuracy: 0.8655 - val_loss: 0.2584 - val_accuracy: 0.9025\n",
            "Epoch 24/35\n",
            "63/63 [==============================] - 112s 2s/step - loss: 0.2817 - accuracy: 0.8775 - val_loss: 0.4511 - val_accuracy: 0.8050\n",
            "Epoch 25/35\n",
            "63/63 [==============================] - 112s 2s/step - loss: 0.2852 - accuracy: 0.8635 - val_loss: 0.7121 - val_accuracy: 0.7300\n",
            "Epoch 26/35\n",
            "63/63 [==============================] - 112s 2s/step - loss: 0.3032 - accuracy: 0.8680 - val_loss: 0.5289 - val_accuracy: 0.7525\n",
            "Epoch 27/35\n",
            "63/63 [==============================] - 112s 2s/step - loss: 0.2862 - accuracy: 0.8700 - val_loss: 0.2349 - val_accuracy: 0.8900\n",
            "Epoch 28/35\n",
            "63/63 [==============================] - 112s 2s/step - loss: 0.2918 - accuracy: 0.8635 - val_loss: 0.5384 - val_accuracy: 0.8200\n",
            "Epoch 29/35\n",
            "63/63 [==============================] - 112s 2s/step - loss: 0.2698 - accuracy: 0.8815 - val_loss: 0.2225 - val_accuracy: 0.8925\n",
            "Epoch 30/35\n",
            "63/63 [==============================] - 112s 2s/step - loss: 0.3013 - accuracy: 0.8720 - val_loss: 0.5301 - val_accuracy: 0.8825\n",
            "Epoch 31/35\n",
            "63/63 [==============================] - 112s 2s/step - loss: 0.2874 - accuracy: 0.8725 - val_loss: 0.2921 - val_accuracy: 0.8750\n",
            "Epoch 32/35\n",
            "63/63 [==============================] - 112s 2s/step - loss: 0.2710 - accuracy: 0.8850 - val_loss: 0.8417 - val_accuracy: 0.6775\n",
            "Epoch 33/35\n",
            "63/63 [==============================] - 112s 2s/step - loss: 0.3660 - accuracy: 0.8555 - val_loss: 68.4482 - val_accuracy: 0.5000\n",
            "Epoch 34/35\n",
            "63/63 [==============================] - 112s 2s/step - loss: 0.5402 - accuracy: 0.8350 - val_loss: 4.6511 - val_accuracy: 0.5675\n",
            "Epoch 35/35\n",
            "63/63 [==============================] - 112s 2s/step - loss: 0.4014 - accuracy: 0.8370 - val_loss: 1.1713 - val_accuracy: 0.8225\n"
          ]
        }
      ],
      "source": [
        "r = model.fit_generator(\n",
        "  training_set,\n",
        "  validation_data=test_set,\n",
        "  epochs=35,\n",
        "  steps_per_epoch=len(training_set),\n",
        "  validation_steps=len(test_set),\n",
        "  shuffle = True\n",
        ")"
      ]
    },
    {
      "cell_type": "code",
      "execution_count": 7,
      "id": "14ff22e7",
      "metadata": {
        "colab": {
          "base_uri": "https://localhost:8080/",
          "height": 530
        },
        "id": "14ff22e7",
        "outputId": "8b0a8dfd-e26f-4513-8afe-2e9853eb3523"
      },
      "outputs": [
        {
          "output_type": "display_data",
          "data": {
            "text/plain": [
              "<Figure size 432x288 with 1 Axes>"
            ],
            "image/png": "[encoded data removed]"
          },
          "metadata": {
            "needs_background": "light"
          }
        },
        {
          "output_type": "display_data",
          "data": {
            "text/plain": [
              "<Figure size 432x288 with 1 Axes>"
            ],
            "image/png": "[encoded data removed]"
          },
          "metadata": {
            "needs_background": "light"
          }
        },
        {
          "output_type": "display_data",
          "data": {
            "text/plain": [
              "<Figure size 432x288 with 0 Axes>"
            ]
          },
          "metadata": {}
        }
      ],
      "source": [
        "import matplotlib.pyplot as plt\n",
        "\n",
        "plt.plot(r.history['loss'], label='train loss')\n",
        "plt.plot(r.history['val_loss'], label='val loss')\n",
        "plt.legend()\n",
        "plt.show()\n",
        "plt.savefig('LossVal_loss')\n",
        "\n",
        "# plot the accuracy\n",
        "plt.plot(r.history['accuracy'], label='train acc')\n",
        "plt.plot(r.history['val_accuracy'], label='val acc')\n",
        "plt.legend()\n",
        "plt.show()\n",
        "plt.savefig('AccVal_acc')"
      ]
    },
    {
      "cell_type": "code",
      "execution_count": 7,
      "id": "dda8b54c",
      "metadata": {
        "id": "dda8b54c"
      },
      "outputs": [],
      "source": [
        ""
      ]
    }
  ],
  "metadata": {
    "kernelspec": {
      "display_name": "Python 3 (ipykernel)",
      "language": "python",
      "name": "python3"
    },
    "language_info": {
      "codemirror_mode": {
        "name": "ipython",
        "version": 3
      },
      "file_extension": ".py",
      "mimetype": "text/x-python",
      "name": "python",
      "nbconvert_exporter": "python",
      "pygments_lexer": "ipython3",
      "version": "3.9.0"
    },
    "colab": {
      "name": "BreastCancerClassification_EfficientNETB2.ipynb",
      "provenance": [],
      "collapsed_sections": []
    },
    "accelerator": "GPU"
  },
  "nbformat": 4,
  "nbformat_minor": 5
}