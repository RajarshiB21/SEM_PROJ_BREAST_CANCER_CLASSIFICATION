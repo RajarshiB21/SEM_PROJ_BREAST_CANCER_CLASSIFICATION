{
  "cells": [
    {
      "cell_type": "code",
      "source": [
        "from google.colab import drive\n",
        "drive.mount('/content/drive')"
      ],
      "metadata": {
        "colab": {
          "base_uri": "https://localhost:8080/"
        },
        "id": "6AZAAPpCWRGk",
        "outputId": "7416f55b-5efd-4405-e15f-1ddceaa0e742"
      },
      "id": "6AZAAPpCWRGk",
      "execution_count": 1,
      "outputs": [
        {
          "output_type": "stream",
          "name": "stdout",
          "text": [
            "Mounted at /content/drive\n"
          ]
        }
      ]
    },
    {
      "cell_type": "code",
      "execution_count": 2,
      "id": "efeded90",
      "metadata": {
        "id": "efeded90"
      },
      "outputs": [],
      "source": [
        "import tensorflow as tf\n",
        "from tensorflow.keras import layers\n",
        "from tensorflow.keras.applications import EfficientNetB0\n",
        "\n",
        "NUM_CLASSES = 2\n",
        "IMG_SIZE = 224\n",
        "size = (IMG_SIZE, IMG_SIZE)\n",
        "\n",
        "inputs = layers.Input(shape=(IMG_SIZE, IMG_SIZE, 3))\n",
        "\n",
        "#Using model without transfer learning\n",
        "\n",
        "outputs = EfficientNetB0(include_top = True, weights = None, classes=NUM_CLASSES)(inputs)"
      ]
    },
    {
      "cell_type": "code",
      "execution_count": 3,
      "id": "d9ba2ff5",
      "metadata": {
        "colab": {
          "base_uri": "https://localhost:8080/"
        },
        "id": "d9ba2ff5",
        "outputId": "fac6fa7c-0d9d-44bb-b718-e6c5f0f6ecf0"
      },
      "outputs": [
        {
          "output_type": "stream",
          "name": "stdout",
          "text": [
            "Model: \"model\"\n",
            "_________________________________________________________________\n",
            " Layer (type)                Output Shape              Param #   \n",
            "=================================================================\n",
            " input_1 (InputLayer)        [(None, 224, 224, 3)]     0         \n",
            "                                                                 \n",
            " efficientnetb0 (Functional)  (None, 2)                4052133   \n",
            "                                                                 \n",
            "=================================================================\n",
            "Total params: 4,052,133\n",
            "Trainable params: 4,010,110\n",
            "Non-trainable params: 42,023\n",
            "_________________________________________________________________\n"
          ]
        }
      ],
      "source": [
        "model = tf.keras.Model(inputs, outputs)\n",
        "model.compile(optimizer=\"adam\", loss=\"categorical_crossentropy\", metrics=[\"accuracy\"])\n",
        "model.summary()"
      ]
    },
    {
      "cell_type": "code",
      "execution_count": 4,
      "id": "0e5f645c",
      "metadata": {
        "id": "0e5f645c"
      },
      "outputs": [],
      "source": [
        "from tensorflow.keras.preprocessing.image import ImageDataGenerator\n",
        "\n",
        "train_datagen = ImageDataGenerator(rescale = 1./255,\n",
        "                                   shear_range = 0.2,\n",
        "                                   zoom_range = 0.2,\n",
        "                                   horizontal_flip = True)\n",
        "\n",
        "test_datagen = ImageDataGenerator(rescale = 1./255)"
      ]
    },
    {
      "cell_type": "code",
      "execution_count": 5,
      "id": "18f1f190",
      "metadata": {
        "colab": {
          "base_uri": "https://localhost:8080/"
        },
        "id": "18f1f190",
        "outputId": "0b4cc2f0-2c90-431b-bf25-6bddc2c85355"
      },
      "outputs": [
        {
          "output_type": "stream",
          "name": "stdout",
          "text": [
            "Found 2000 images belonging to 2 classes.\n",
            "Found 400 images belonging to 2 classes.\n"
          ]
        }
      ],
      "source": [
        "training_set = train_datagen.flow_from_directory('/content/drive/MyDrive/Projects/DeepLearning/BreastCancer/Dataset_2000/train',\n",
        "                                                 target_size = (IMG_SIZE, IMG_SIZE),\n",
        "                                                 batch_size = 32,\n",
        "                                                 class_mode = 'categorical')\n",
        "\n",
        "test_set = test_datagen.flow_from_directory('/content/drive/MyDrive/Projects/DeepLearning/BreastCancer/Dataset_2000/valid',\n",
        "                                            target_size = (IMG_SIZE, IMG_SIZE),\n",
        "                                            batch_size = 32,\n",
        "                                            class_mode = 'categorical')"
      ]
    },
    {
      "cell_type": "code",
      "execution_count": 6,
      "id": "073467c4",
      "metadata": {
        "colab": {
          "base_uri": "https://localhost:8080/"
        },
        "id": "073467c4",
        "outputId": "3ad57818-0b37-4a55-e960-10fd55f1d559"
      },
      "outputs": [
        {
          "output_type": "stream",
          "name": "stderr",
          "text": [
            "/usr/local/lib/python3.7/dist-packages/ipykernel_launcher.py:7: UserWarning: `Model.fit_generator` is deprecated and will be removed in a future version. Please use `Model.fit`, which supports generators.\n",
            "  import sys\n"
          ]
        },
        {
          "output_type": "stream",
          "name": "stdout",
          "text": [
            "Epoch 1/35\n",
            "63/63 [==============================] - 363s 5s/step - loss: 2.0641 - accuracy: 0.6720 - val_loss: 1.4613 - val_accuracy: 0.5000\n",
            "Epoch 2/35\n",
            "63/63 [==============================] - 49s 763ms/step - loss: 0.8163 - accuracy: 0.7725 - val_loss: 1.3867 - val_accuracy: 0.5000\n",
            "Epoch 3/35\n",
            "63/63 [==============================] - 49s 769ms/step - loss: 0.7857 - accuracy: 0.7910 - val_loss: 0.8813 - val_accuracy: 0.5000\n",
            "Epoch 4/35\n",
            "63/63 [==============================] - 49s 765ms/step - loss: 0.6384 - accuracy: 0.8000 - val_loss: 1.4402 - val_accuracy: 0.5000\n",
            "Epoch 5/35\n",
            "63/63 [==============================] - 49s 765ms/step - loss: 0.6175 - accuracy: 0.8110 - val_loss: 1.1303 - val_accuracy: 0.5000\n",
            "Epoch 6/35\n",
            "63/63 [==============================] - 49s 764ms/step - loss: 0.4475 - accuracy: 0.8290 - val_loss: 1.1743 - val_accuracy: 0.5000\n",
            "Epoch 7/35\n",
            "63/63 [==============================] - 49s 764ms/step - loss: 0.3835 - accuracy: 0.8550 - val_loss: 1.1100 - val_accuracy: 0.5000\n",
            "Epoch 8/35\n",
            "63/63 [==============================] - 48s 761ms/step - loss: 0.4576 - accuracy: 0.8205 - val_loss: 0.5416 - val_accuracy: 0.8425\n",
            "Epoch 9/35\n",
            "63/63 [==============================] - 48s 763ms/step - loss: 0.4784 - accuracy: 0.8285 - val_loss: 0.5634 - val_accuracy: 0.5825\n",
            "Epoch 10/35\n",
            "63/63 [==============================] - 48s 762ms/step - loss: 0.3782 - accuracy: 0.8425 - val_loss: 0.6356 - val_accuracy: 0.5300\n",
            "Epoch 11/35\n",
            "63/63 [==============================] - 49s 764ms/step - loss: 0.3562 - accuracy: 0.8455 - val_loss: 0.3416 - val_accuracy: 0.8525\n",
            "Epoch 12/35\n",
            "63/63 [==============================] - 49s 764ms/step - loss: 0.3312 - accuracy: 0.8575 - val_loss: 0.4803 - val_accuracy: 0.7750\n",
            "Epoch 13/35\n",
            "63/63 [==============================] - 48s 761ms/step - loss: 0.3345 - accuracy: 0.8525 - val_loss: 0.6213 - val_accuracy: 0.6075\n",
            "Epoch 14/35\n",
            "63/63 [==============================] - 49s 766ms/step - loss: 0.3253 - accuracy: 0.8560 - val_loss: 3.1654 - val_accuracy: 0.5175\n",
            "Epoch 15/35\n",
            "63/63 [==============================] - 49s 767ms/step - loss: 0.4807 - accuracy: 0.8310 - val_loss: 0.4890 - val_accuracy: 0.7575\n",
            "Epoch 16/35\n",
            "63/63 [==============================] - 49s 766ms/step - loss: 0.6487 - accuracy: 0.8255 - val_loss: 6.3795 - val_accuracy: 0.4900\n",
            "Epoch 17/35\n",
            "63/63 [==============================] - 48s 763ms/step - loss: 0.4146 - accuracy: 0.8345 - val_loss: 7.0317 - val_accuracy: 0.5000\n",
            "Epoch 18/35\n",
            "63/63 [==============================] - 49s 764ms/step - loss: 0.3696 - accuracy: 0.8350 - val_loss: 2.1367 - val_accuracy: 0.5775\n",
            "Epoch 19/35\n",
            "63/63 [==============================] - 49s 766ms/step - loss: 0.3706 - accuracy: 0.8465 - val_loss: 2.7483 - val_accuracy: 0.5100\n",
            "Epoch 20/35\n",
            "63/63 [==============================] - 49s 765ms/step - loss: 0.3411 - accuracy: 0.8510 - val_loss: 0.3446 - val_accuracy: 0.8425\n",
            "Epoch 21/35\n",
            "63/63 [==============================] - 49s 765ms/step - loss: 0.3405 - accuracy: 0.8445 - val_loss: 0.3295 - val_accuracy: 0.8650\n",
            "Epoch 22/35\n",
            "63/63 [==============================] - 49s 765ms/step - loss: 0.3357 - accuracy: 0.8560 - val_loss: 0.2685 - val_accuracy: 0.8775\n",
            "Epoch 23/35\n",
            "63/63 [==============================] - 49s 763ms/step - loss: 0.3416 - accuracy: 0.8505 - val_loss: 1.1531 - val_accuracy: 0.6650\n",
            "Epoch 24/35\n",
            "63/63 [==============================] - 49s 766ms/step - loss: 0.3327 - accuracy: 0.8650 - val_loss: 0.3626 - val_accuracy: 0.8375\n",
            "Epoch 25/35\n",
            "63/63 [==============================] - 49s 766ms/step - loss: 0.2920 - accuracy: 0.8745 - val_loss: 0.2406 - val_accuracy: 0.8975\n",
            "Epoch 26/35\n",
            "63/63 [==============================] - 48s 762ms/step - loss: 0.3132 - accuracy: 0.8640 - val_loss: 0.2336 - val_accuracy: 0.8925\n",
            "Epoch 27/35\n",
            "63/63 [==============================] - 48s 763ms/step - loss: 0.3174 - accuracy: 0.8595 - val_loss: 2.7960 - val_accuracy: 0.6075\n",
            "Epoch 28/35\n",
            "63/63 [==============================] - 49s 764ms/step - loss: 0.2971 - accuracy: 0.8665 - val_loss: 0.4222 - val_accuracy: 0.8550\n",
            "Epoch 29/35\n",
            "63/63 [==============================] - 48s 763ms/step - loss: 0.2985 - accuracy: 0.8740 - val_loss: 0.2356 - val_accuracy: 0.9050\n",
            "Epoch 30/35\n",
            "63/63 [==============================] - 49s 763ms/step - loss: 0.3088 - accuracy: 0.8715 - val_loss: 0.3179 - val_accuracy: 0.8300\n",
            "Epoch 31/35\n",
            "63/63 [==============================] - 48s 769ms/step - loss: 0.3051 - accuracy: 0.8710 - val_loss: 0.2403 - val_accuracy: 0.8850\n",
            "Epoch 32/35\n",
            "63/63 [==============================] - 49s 765ms/step - loss: 0.3251 - accuracy: 0.8610 - val_loss: 2.1945 - val_accuracy: 0.6550\n",
            "Epoch 33/35\n",
            "63/63 [==============================] - 49s 772ms/step - loss: 0.3292 - accuracy: 0.8640 - val_loss: 0.3518 - val_accuracy: 0.8675\n",
            "Epoch 34/35\n",
            "63/63 [==============================] - 48s 768ms/step - loss: 0.4334 - accuracy: 0.8060 - val_loss: 4.9611 - val_accuracy: 0.5025\n",
            "Epoch 35/35\n",
            "63/63 [==============================] - 49s 764ms/step - loss: 0.3430 - accuracy: 0.8565 - val_loss: 0.8849 - val_accuracy: 0.6075\n"
          ]
        }
      ],
      "source": [
        "r = model.fit_generator(\n",
        "  training_set,\n",
        "  validation_data=test_set,\n",
        "  epochs=35,\n",
        "  steps_per_epoch=len(training_set),\n",
        "  validation_steps=len(test_set),\n",
        "  shuffle = True\n",
        ")"
      ]
    },
    {
      "cell_type": "code",
      "execution_count": 7,
      "id": "14ff22e7",
      "metadata": {
        "colab": {
          "base_uri": "https://localhost:8080/",
          "height": 530
        },
        "id": "14ff22e7",
        "outputId": "c49d3cfd-2cf0-4821-febc-8634b93002ed"
      },
      "outputs": [
        {
          "output_type": "display_data",
          "data": {
            "text/plain": [
              "<Figure size 432x288 with 1 Axes>"
            ],
            "image/png": "[encoded data removed]"
          },
          "metadata": {
            "needs_background": "light"
          }
        },
        {
          "output_type": "display_data",
          "data": {
            "text/plain": [
              "<Figure size 432x288 with 1 Axes>"
            ],
            "image/png": "[encoded data removed]"
          },
          "metadata": {
            "needs_background": "light"
          }
        },
        {
          "output_type": "display_data",
          "data": {
            "text/plain": [
              "<Figure size 432x288 with 0 Axes>"
            ]
          },
          "metadata": {}
        }
      ],
      "source": [
        "import matplotlib.pyplot as plt\n",
        "\n",
        "plt.plot(r.history['loss'], label='train loss')\n",
        "plt.plot(r.history['val_loss'], label='val loss')\n",
        "plt.legend()\n",
        "plt.show()\n",
        "plt.savefig('LossVal_loss')\n",
        "\n",
        "# plot the accuracy\n",
        "plt.plot(r.history['accuracy'], label='train acc')\n",
        "plt.plot(r.history['val_accuracy'], label='val acc')\n",
        "plt.legend()\n",
        "plt.show()\n",
        "plt.savefig('AccVal_acc')"
      ]
    },
    {
      "cell_type": "code",
      "execution_count": 7,
      "id": "dda8b54c",
      "metadata": {
        "id": "dda8b54c"
      },
      "outputs": [],
      "source": [
        ""
      ]
    }
  ],
  "metadata": {
    "kernelspec": {
      "display_name": "Python 3 (ipykernel)",
      "language": "python",
      "name": "python3"
    },
    "language_info": {
      "codemirror_mode": {
        "name": "ipython",
        "version": 3
      },
      "file_extension": ".py",
      "mimetype": "text/x-python",
      "name": "python",
      "nbconvert_exporter": "python",
      "pygments_lexer": "ipython3",
      "version": "3.9.0"
    },
    "colab": {
      "name": "BreastCancerClassification_EfficientNETB0.ipynb",
      "provenance": [],
      "collapsed_sections": []
    },
    "accelerator": "GPU"
  },
  "nbformat": 4,
  "nbformat_minor": 5
}