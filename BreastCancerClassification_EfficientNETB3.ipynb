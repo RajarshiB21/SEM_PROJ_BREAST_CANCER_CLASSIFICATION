{
  "cells": [
    {
      "cell_type": "code",
      "source": [
        "from google.colab import drive\n",
        "drive.mount('/content/drive')"
      ],
      "metadata": {
        "colab": {
          "base_uri": "https://localhost:8080/"
        },
        "id": "6AZAAPpCWRGk",
        "outputId": "fa179656-37d0-4507-b0b1-be48dbb3c48e"
      },
      "id": "6AZAAPpCWRGk",
      "execution_count": 1,
      "outputs": [
        {
          "output_type": "stream",
          "name": "stdout",
          "text": [
            "Mounted at /content/drive\n"
          ]
        }
      ]
    },
    {
      "cell_type": "code",
      "execution_count": 2,
      "id": "efeded90",
      "metadata": {
        "id": "efeded90"
      },
      "outputs": [],
      "source": [
        "import tensorflow as tf\n",
        "from tensorflow.keras import layers\n",
        "from tensorflow.keras.applications import EfficientNetB3\n",
        "\n",
        "NUM_CLASSES = 2\n",
        "IMG_SIZE = 300\n",
        "size = (IMG_SIZE, IMG_SIZE)\n",
        "\n",
        "inputs = layers.Input(shape=(IMG_SIZE, IMG_SIZE, 3))\n",
        "\n",
        "#Using model without transfer learning\n",
        "\n",
        "outputs = EfficientNetB3(include_top = True, weights = None, classes=NUM_CLASSES)(inputs)"
      ]
    },
    {
      "cell_type": "code",
      "execution_count": 3,
      "id": "d9ba2ff5",
      "metadata": {
        "colab": {
          "base_uri": "https://localhost:8080/"
        },
        "id": "d9ba2ff5",
        "outputId": "9c1bb5fc-98e6-4eb7-93b3-33070614e6e9"
      },
      "outputs": [
        {
          "output_type": "stream",
          "name": "stdout",
          "text": [
            "Model: \"model\"\n",
            "_________________________________________________________________\n",
            " Layer (type)                Output Shape              Param #   \n",
            "=================================================================\n",
            " input_1 (InputLayer)        [(None, 300, 300, 3)]     0         \n",
            "                                                                 \n",
            " efficientnetb3 (Functional)  (None, 2)                10786609  \n",
            "                                                                 \n",
            "=================================================================\n",
            "Total params: 10,786,609\n",
            "Trainable params: 10,699,306\n",
            "Non-trainable params: 87,303\n",
            "_________________________________________________________________\n"
          ]
        }
      ],
      "source": [
        "model = tf.keras.Model(inputs, outputs)\n",
        "model.compile(optimizer=\"adam\", loss=\"categorical_crossentropy\", metrics=[\"accuracy\"])\n",
        "model.summary()"
      ]
    },
    {
      "cell_type": "code",
      "execution_count": 4,
      "id": "0e5f645c",
      "metadata": {
        "id": "0e5f645c"
      },
      "outputs": [],
      "source": [
        "from tensorflow.keras.preprocessing.image import ImageDataGenerator\n",
        "\n",
        "train_datagen = ImageDataGenerator(rescale = 1./255,\n",
        "                                   shear_range = 0.2,\n",
        "                                   zoom_range = 0.2,\n",
        "                                   horizontal_flip = True)\n",
        "\n",
        "test_datagen = ImageDataGenerator(rescale = 1./255)"
      ]
    },
    {
      "cell_type": "code",
      "execution_count": 5,
      "id": "18f1f190",
      "metadata": {
        "colab": {
          "base_uri": "https://localhost:8080/"
        },
        "id": "18f1f190",
        "outputId": "603bd36e-1a9f-4b12-b883-d50c821e657f"
      },
      "outputs": [
        {
          "output_type": "stream",
          "name": "stdout",
          "text": [
            "Found 2000 images belonging to 2 classes.\n",
            "Found 400 images belonging to 2 classes.\n"
          ]
        }
      ],
      "source": [
        "training_set = train_datagen.flow_from_directory('/content/drive/MyDrive/Projects/DeepLearning/BreastCancer/Dataset_2000/train',\n",
        "                                                 target_size = (IMG_SIZE, IMG_SIZE),\n",
        "                                                 batch_size = 32,\n",
        "                                                 class_mode = 'categorical')\n",
        "\n",
        "test_set = test_datagen.flow_from_directory('/content/drive/MyDrive/Projects/DeepLearning/BreastCancer/Dataset_2000/valid',\n",
        "                                            target_size = (IMG_SIZE, IMG_SIZE),\n",
        "                                            batch_size = 32,\n",
        "                                            class_mode = 'categorical')"
      ]
    },
    {
      "cell_type": "code",
      "execution_count": 6,
      "id": "073467c4",
      "metadata": {
        "colab": {
          "base_uri": "https://localhost:8080/"
        },
        "id": "073467c4",
        "outputId": "63c2cd73-7613-470e-898a-d28600685a7e"
      },
      "outputs": [
        {
          "metadata": {
            "tags": null
          },
          "name": "stderr",
          "output_type": "stream",
          "text": [
            "/usr/local/lib/python3.7/dist-packages/ipykernel_launcher.py:7: UserWarning: `Model.fit_generator` is deprecated and will be removed in a future version. Please use `Model.fit`, which supports generators.\n",
            "  import sys\n"
          ]
        },
        {
          "output_type": "stream",
          "name": "stdout",
          "text": [
            "Epoch 1/35\n",
            "63/63 [==============================] - 422s 6s/step - loss: 3.0090 - accuracy: 0.6245 - val_loss: 0.9850 - val_accuracy: 0.5000\n",
            "Epoch 2/35\n",
            "63/63 [==============================] - 71s 1s/step - loss: 1.1762 - accuracy: 0.7405 - val_loss: 1.0960 - val_accuracy: 0.5000\n",
            "Epoch 3/35\n",
            "63/63 [==============================] - 73s 1s/step - loss: 0.6339 - accuracy: 0.8120 - val_loss: 1.5122 - val_accuracy: 0.5000\n",
            "Epoch 4/35\n",
            "63/63 [==============================] - 73s 1s/step - loss: 0.4716 - accuracy: 0.8245 - val_loss: 0.6907 - val_accuracy: 0.5000\n",
            "Epoch 5/35\n",
            "63/63 [==============================] - 74s 1s/step - loss: 0.4121 - accuracy: 0.8310 - val_loss: 1.5274 - val_accuracy: 0.5000\n",
            "Epoch 6/35\n",
            "63/63 [==============================] - 74s 1s/step - loss: 0.4146 - accuracy: 0.8365 - val_loss: 1.3579 - val_accuracy: 0.5000\n",
            "Epoch 7/35\n",
            "63/63 [==============================] - 74s 1s/step - loss: 0.4078 - accuracy: 0.8280 - val_loss: 1.1238 - val_accuracy: 0.5000\n",
            "Epoch 8/35\n",
            "63/63 [==============================] - 74s 1s/step - loss: 0.5255 - accuracy: 0.8095 - val_loss: 0.7599 - val_accuracy: 0.5650\n",
            "Epoch 9/35\n",
            "63/63 [==============================] - 75s 1s/step - loss: 0.4942 - accuracy: 0.8015 - val_loss: 2.3682 - val_accuracy: 0.5000\n",
            "Epoch 10/35\n",
            "63/63 [==============================] - 74s 1s/step - loss: 0.7564 - accuracy: 0.7830 - val_loss: 3.5960 - val_accuracy: 0.5600\n",
            "Epoch 11/35\n",
            "63/63 [==============================] - 74s 1s/step - loss: 0.6432 - accuracy: 0.7875 - val_loss: 0.6264 - val_accuracy: 0.8400\n",
            "Epoch 12/35\n",
            "63/63 [==============================] - 74s 1s/step - loss: 0.7526 - accuracy: 0.7225 - val_loss: 423.5787 - val_accuracy: 0.5000\n",
            "Epoch 13/35\n",
            "63/63 [==============================] - 74s 1s/step - loss: 0.7968 - accuracy: 0.7195 - val_loss: 0.6741 - val_accuracy: 0.6075\n",
            "Epoch 14/35\n",
            "63/63 [==============================] - 74s 1s/step - loss: 0.5211 - accuracy: 0.7715 - val_loss: 0.4428 - val_accuracy: 0.7850\n",
            "Epoch 15/35\n",
            "63/63 [==============================] - 74s 1s/step - loss: 0.5082 - accuracy: 0.8075 - val_loss: 0.8716 - val_accuracy: 0.6500\n",
            "Epoch 16/35\n",
            "63/63 [==============================] - 74s 1s/step - loss: 0.4299 - accuracy: 0.8160 - val_loss: 20.1746 - val_accuracy: 0.5050\n",
            "Epoch 17/35\n",
            "63/63 [==============================] - 74s 1s/step - loss: 0.3843 - accuracy: 0.8310 - val_loss: 2.0708 - val_accuracy: 0.5575\n",
            "Epoch 18/35\n",
            "63/63 [==============================] - 74s 1s/step - loss: 0.3707 - accuracy: 0.8370 - val_loss: 0.7725 - val_accuracy: 0.5300\n",
            "Epoch 19/35\n",
            "63/63 [==============================] - 75s 1s/step - loss: 0.3496 - accuracy: 0.8525 - val_loss: 0.9435 - val_accuracy: 0.5175\n",
            "Epoch 20/35\n",
            "63/63 [==============================] - 75s 1s/step - loss: 0.3653 - accuracy: 0.8410 - val_loss: 1.3131 - val_accuracy: 0.5200\n",
            "Epoch 21/35\n",
            "63/63 [==============================] - 74s 1s/step - loss: 0.3529 - accuracy: 0.8405 - val_loss: 0.3756 - val_accuracy: 0.8200\n",
            "Epoch 22/35\n",
            "63/63 [==============================] - 74s 1s/step - loss: 0.3484 - accuracy: 0.8505 - val_loss: 0.3685 - val_accuracy: 0.8175\n",
            "Epoch 23/35\n",
            "63/63 [==============================] - 74s 1s/step - loss: 0.3283 - accuracy: 0.8490 - val_loss: 0.2647 - val_accuracy: 0.8925\n",
            "Epoch 24/35\n",
            "63/63 [==============================] - 74s 1s/step - loss: 0.3265 - accuracy: 0.8515 - val_loss: 0.2765 - val_accuracy: 0.8900\n",
            "Epoch 25/35\n",
            "63/63 [==============================] - 74s 1s/step - loss: 0.3658 - accuracy: 0.8550 - val_loss: 0.4018 - val_accuracy: 0.7775\n",
            "Epoch 26/35\n",
            "63/63 [==============================] - 74s 1s/step - loss: 0.3443 - accuracy: 0.8520 - val_loss: 0.4592 - val_accuracy: 0.8400\n",
            "Epoch 27/35\n",
            "63/63 [==============================] - 74s 1s/step - loss: 0.3250 - accuracy: 0.8570 - val_loss: 0.2883 - val_accuracy: 0.8675\n",
            "Epoch 28/35\n",
            "63/63 [==============================] - 75s 1s/step - loss: 0.3125 - accuracy: 0.8625 - val_loss: 0.2559 - val_accuracy: 0.8850\n",
            "Epoch 29/35\n",
            "63/63 [==============================] - 74s 1s/step - loss: 0.3052 - accuracy: 0.8655 - val_loss: 0.2861 - val_accuracy: 0.8825\n",
            "Epoch 30/35\n",
            "63/63 [==============================] - 74s 1s/step - loss: 0.3379 - accuracy: 0.8640 - val_loss: 0.7207 - val_accuracy: 0.7375\n",
            "Epoch 31/35\n",
            "63/63 [==============================] - 74s 1s/step - loss: 0.3098 - accuracy: 0.8520 - val_loss: 0.4341 - val_accuracy: 0.8150\n",
            "Epoch 32/35\n",
            "63/63 [==============================] - 74s 1s/step - loss: 0.2938 - accuracy: 0.8695 - val_loss: 0.2608 - val_accuracy: 0.8850\n",
            "Epoch 33/35\n",
            "63/63 [==============================] - 74s 1s/step - loss: 0.3450 - accuracy: 0.8525 - val_loss: 0.2889 - val_accuracy: 0.8925\n",
            "Epoch 34/35\n",
            "63/63 [==============================] - 75s 1s/step - loss: 0.3132 - accuracy: 0.8665 - val_loss: 0.3696 - val_accuracy: 0.8400\n",
            "Epoch 35/35\n",
            "63/63 [==============================] - 74s 1s/step - loss: 0.2966 - accuracy: 0.8655 - val_loss: 0.2954 - val_accuracy: 0.8675\n"
          ]
        }
      ],
      "source": [
        "r = model.fit_generator(\n",
        "  training_set,\n",
        "  validation_data=test_set,\n",
        "  epochs=35,\n",
        "  steps_per_epoch=len(training_set),\n",
        "  validation_steps=len(test_set),\n",
        "  shuffle = True\n",
        ")"
      ]
    },
    {
      "cell_type": "code",
      "execution_count": 7,
      "id": "14ff22e7",
      "metadata": {
        "colab": {
          "base_uri": "https://localhost:8080/",
          "height": 530
        },
        "id": "14ff22e7",
        "outputId": "9496e06c-37b1-41a6-9ccf-5dff3b684f08"
      },
      "outputs": [
        {
          "output_type": "display_data",
          "data": {
            "text/plain": [
              "<Figure size 432x288 with 1 Axes>"
            ],
            "image/png": "[encoded data removed]"
          },
          "metadata": {
            "needs_background": "light"
          }
        },
        {
          "output_type": "display_data",
          "data": {
            "text/plain": [
              "<Figure size 432x288 with 1 Axes>"
            ],
            "image/png": "[encoded data removed]"
          },
          "metadata": {
            "needs_background": "light"
          }
        },
        {
          "output_type": "display_data",
          "data": {
            "text/plain": [
              "<Figure size 432x288 with 0 Axes>"
            ]
          },
          "metadata": {}
        }
      ],
      "source": [
        "import matplotlib.pyplot as plt\n",
        "\n",
        "plt.plot(r.history['loss'], label='train loss')\n",
        "plt.plot(r.history['val_loss'], label='val loss')\n",
        "plt.legend()\n",
        "plt.show()\n",
        "plt.savefig('LossVal_loss')\n",
        "\n",
        "# plot the accuracy\n",
        "plt.plot(r.history['accuracy'], label='train acc')\n",
        "plt.plot(r.history['val_accuracy'], label='val acc')\n",
        "plt.legend()\n",
        "plt.show()\n",
        "plt.savefig('AccVal_acc')"
      ]
    },
    {
      "cell_type": "code",
      "execution_count": 7,
      "id": "dda8b54c",
      "metadata": {
        "id": "dda8b54c"
      },
      "outputs": [],
      "source": [
        ""
      ]
    }
  ],
  "metadata": {
    "kernelspec": {
      "display_name": "Python 3 (ipykernel)",
      "language": "python",
      "name": "python3"
    },
    "language_info": {
      "codemirror_mode": {
        "name": "ipython",
        "version": 3
      },
      "file_extension": ".py",
      "mimetype": "text/x-python",
      "name": "python",
      "nbconvert_exporter": "python",
      "pygments_lexer": "ipython3",
      "version": "3.9.0"
    },
    "colab": {
      "name": "BreastCancerClassification_EfficientNETB3.ipynb",
      "provenance": [],
      "collapsed_sections": []
    },
    "accelerator": "GPU"
  },
  "nbformat": 4,
  "nbformat_minor": 5
}