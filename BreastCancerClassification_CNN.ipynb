{
 "cells": [
  {
   "cell_type": "markdown",
   "id": "f1f62012",
   "metadata": {},
   "source": [
    "**UEM SEMESTER PROJECT 5TH SEMESTER : BREAST CANCER CLASSIFICATION**\n",
    "\n",
    "Author Name : Rajarshi Banerjee\n",
    "\n",
    "Class and Section : 3 D\n",
    "\n",
    "Year: 3 RD Year\n",
    "\n",
    "Organisation : University of Engineering and Management, Kolkata\n",
    "\n",
    "Group ID : 113\n",
    "\n",
    "Enrollment Number : 12019009022068"
   ]
  },
  {
   "cell_type": "markdown",
   "id": "9e089473",
   "metadata": {},
   "source": [
    "**BREAST CANCER CLASSIFICATION USING RBF AND A COMPARITIVE STUDY BETWEEN MODELS**\n",
    "\n",
    "**SUB PROJECT : CUSTOM CONVOLUTIONAL NEURAL NETWORK**\n",
    "\n",
    "In this project we have classified Breast Cancer cells using rbf and we aim to implement different models and compare the accuracy on the data for the different models.\n",
    "\n",
    "The models implemented in this project are :\n",
    "\n",
    "- Custom Convolutional Neural Network\n",
    "- VGG 16\n",
    "- VGG 19\n",
    "- SVC with RBF\n",
    "- EfficientNETB0\n",
    "- EfficientNETB1\n",
    "- EfficientNETB2\n",
    "- EfficientNETB3\n",
    "- EfficientNETB4\n",
    "- EfficientNETB5\n",
    "- EfficientNETB6\n",
    "- EfficientNETB7\n",
    "- EfficientNETB8\n",
    "- EfficientNETB9"
   ]
  },
  {
   "cell_type": "markdown",
   "id": "439e8976",
   "metadata": {},
   "source": [
    "**SYSTEM SPECIFICATIONS AND REQUIREMENTS FOR THIS PROJECT**\n",
    "\n",
    "We have used Anaconda to create a separate environment for this project with the following installed:\n",
    "\n",
    "- Tensorflow 2.8.0\n",
    "- Python 3.9\n",
    "- Numpy\n",
    "- OpenCV\n",
    "- CudaToolkit 11.3\n",
    "- cuDNN Libaries for CudaToolkit 11.3\n",
    "- Pytorch\n",
    "- Matplotlib\n",
    "\n",
    "The system that this project was run on and the models were trained had the following specifications:\n",
    "\n",
    "- CPU : AMD RYZEN 5 5600X\n",
    "- GPU : NVIDIA GEFORCE RTX 3060TI\n",
    "- RAM : 16 GB DDR4 3600 MHZ\n",
    "- STORAGE : 1TB KINGSTON NVME M.2 SSD\n",
    "- PSU : 750 GIGABYTE POWERSUPPLY"
   ]
  },
  {
   "cell_type": "markdown",
   "id": "b5853535",
   "metadata": {},
   "source": [
    "We start by importing the necessary libaries.\n",
    "\n",
    "- We start by importing ImageDataGenerator which generates multiple versions of the image by shrinking it, zooming and flipping it horizontally or vertically.\n",
    "- We then import Sequential to enable stacking of neurons.\n",
    "- We then import the Convolutional and Maxpooling layers, maxpooling reduces the size of the images.\n",
    "- We need to have Activation functions to tell the neural network when to activate and if it is either 0 or 1.\n",
    "- We need to have Dropout as it drops out some of the neurons while training to prevent overfitting, if kept at 0.5 then at one particular time half of the neurons will be switched off and wont learn. \n",
    "- Flatten converts 2D image to 1D image. \n",
    "- Dense helps in create layers.\n",
    "- Backend tells us which channel is coming first.\n",
    "- Numpy is used to convert lists into arrays.\n",
    "- Image processes the data."
   ]
  },
  {
   "cell_type": "code",
   "execution_count": 16,
   "id": "493d2a75",
   "metadata": {},
   "outputs": [],
   "source": [
    "import numpy as np\n",
    "import matplotlib.pyplot as plt\n",
    "import keras\n",
    "from keras.layers import *\n",
    "from keras.models import *\n",
    "from keras.preprocessing import image\n",
    "from tensorflow.keras import models,layers\n",
    "import os\n",
    "import glob\n",
    "import cv2\n",
    "from keras import backend as K"
   ]
  },
  {
   "cell_type": "markdown",
   "id": "aafe74e1",
   "metadata": {},
   "source": [
    "We then specify the dimensions of the images and initialising the directory of the stored images. \n",
    "\n",
    "Number of training and validation samples used are 8000 and 1000 respectively.\n",
    "\n",
    "Epochs are set to 100, the images are passed 100 times before the neural network learns the images.\n",
    "batch_size = Every 20 batches of images will be going in the neural network, each batch will be given 100 times."
   ]
  },
  {
   "cell_type": "code",
   "execution_count": 20,
   "id": "47a75a13",
   "metadata": {},
   "outputs": [],
   "source": [
    "img_width, img_height = 150, 150\n",
    "\n",
    "train_data_dir = 'Dataset1/train'\n",
    "validation_data_dir = 'Dataset1/valid'\n",
    "nb_train_samples = 8000\n",
    "nb_validation_samples = 1000\n",
    "epochs = 50\n",
    "batch_size = 20"
   ]
  },
  {
   "cell_type": "markdown",
   "id": "3b035047",
   "metadata": {},
   "source": [
    "Now we check if the image is in the right format or not, which should be IMG_WIDTH, IMG_HEIGHT, CHANNELS"
   ]
  },
  {
   "cell_type": "code",
   "execution_count": 21,
   "id": "000e291b",
   "metadata": {},
   "outputs": [],
   "source": [
    "if K.image_data_format() == 'channels_first':\n",
    "    input_shape = (3,img_width, img_height)\n",
    "else:\n",
    "    input_shape = (img_width, img_height,3)"
   ]
  },
  {
   "cell_type": "markdown",
   "id": "475e1956",
   "metadata": {},
   "source": [
    "Now we generate the training data. We have rescaled it, sheared it, zoomed it and horizontally flipped it. So out of one image we have generated 4 images for the training data. \n",
    "\n",
    "For the validation data, we have only rescaled it."
   ]
  },
  {
   "cell_type": "code",
   "execution_count": 22,
   "id": "a0ab4722",
   "metadata": {},
   "outputs": [],
   "source": [
    "train_datagen = ImageDataGenerator(\n",
    "    rescale = 1. /255,\n",
    "    shear_range = 0.2,\n",
    "    zoom_range = 0.2,\n",
    "    horizontal_flip = True)\n",
    "\n",
    "test_datagen = ImageDataGenerator(rescale = 1. / 255)"
   ]
  },
  {
   "cell_type": "markdown",
   "id": "50db62d8",
   "metadata": {},
   "source": [
    "Now we get the images from the respective directories"
   ]
  },
  {
   "cell_type": "code",
   "execution_count": 23,
   "id": "c58b8f1c",
   "metadata": {},
   "outputs": [
    {
     "name": "stdout",
     "output_type": "stream",
     "text": [
      "Found 8000 images belonging to 2 classes.\n",
      "Found 2000 images belonging to 2 classes.\n"
     ]
    }
   ],
   "source": [
    "train_generator = train_datagen.flow_from_directory(\n",
    "    train_data_dir,\n",
    "    target_size = (img_width, img_height),\n",
    "    batch_size = batch_size,\n",
    "    class_mode = 'binary')\n",
    "\n",
    "val_generator = test_datagen.flow_from_directory(\n",
    "    validation_data_dir,\n",
    "    target_size=(img_width, img_height),\n",
    "    batch_size = batch_size,\n",
    "    class_mode = 'binary')"
   ]
  },
  {
   "cell_type": "markdown",
   "id": "09076aff",
   "metadata": {},
   "source": [
    "**CUSTOM CONVOLUTIONAL NEURAL NETWORK**\n",
    "\n",
    "In the neural network the convolutional and maxpooling layers work as follows : \n",
    "\n",
    "- Convolutional layer: you super-impose the convolutional kernel on the input pixel and then perform the element wise multiplication.\n",
    "\n",
    "- Max Pooling : you super-impose the pooling kernel on the input pixel and take the maximum.\n",
    "\n",
    "Max_pooling reduces the size of the input, and performs kind of summarization of the data, and at the same time provides some invariance to translational transformations. Convolution, depending on the conditions on the filter coefficients can be regarded as filters allowing to extract some patterns\n",
    "\n",
    "The neural network structure is as follows : \n",
    "\n",
    "*Feature Extraction* - \n",
    "\n",
    "- Model which becomes an object of Sequential\n",
    "- Convolutional Layer with a 3x3 filter and specified input shape (Searches for 32 features using a matrix of size 3x3)\n",
    "- Activation function relu\n",
    "- MaxPooling Layer with a 2x2 filter, it reduces the size to half while maintaining the same size that we had.\n",
    "\n",
    "- Model which becomes an object of Sequential\n",
    "- Convolutional Layer with a 3x3 filter and specified input shape (Searches for 32 features using a matrix of size 3x3)\n",
    "- Activation function relu\n",
    "- MaxPooling Layer with a 2x2 filter, it reduces the size to half while maintaining the same size that we had.\n",
    "\n",
    "- Model which becomes an object of Sequential\n",
    "- Convolutional Layer with a 3x3 filter and specified input shape (Searches for 64 features using a matrix of size 3x3)\n",
    "- Activation function relu\n",
    "- MaxPooling Layer with a 2x2 filter, it reduces the size to half while maintaining the same size that we had.\n",
    "\n",
    "- Model which becomes an object of Sequential\n",
    "- Convolutional Layer with a 3x3 filter and specified input shape (Searches for 128 features using a matrix of size 3x3)\n",
    "- Activation function relu\n",
    "- MaxPooling Layer with a 2x2 filter, it reduces the size to half while maintaining the same size that we had.\n",
    "\n",
    "*After the features have been extracted and the size has been reduced* - \n",
    "\n",
    "- Flatten reduces the image from 2D to 1D\n",
    "- Dense Layer with 64 neurons\n",
    "- Activation function relu\n",
    "- Dropout so that it does not overfit\n",
    "- Dense layer with 1 output neuron where all the 64 neurons in the previous hidden layer connect to\n",
    "- Activation function sigmoid so the value ranges between 0 and 1"
   ]
  },
  {
   "cell_type": "code",
   "execution_count": 6,
   "id": "5fdac23e",
   "metadata": {},
   "outputs": [
    {
     "name": "stdout",
     "output_type": "stream",
     "text": [
      "Model: \"sequential\"\n",
      "_________________________________________________________________\n",
      " Layer (type)                Output Shape              Param #   \n",
      "=================================================================\n",
      " conv2d (Conv2D)             (None, 148, 148, 32)      896       \n",
      "                                                                 \n",
      " activation (Activation)     (None, 148, 148, 32)      0         \n",
      "                                                                 \n",
      " max_pooling2d (MaxPooling2D  (None, 74, 74, 32)       0         \n",
      " )                                                               \n",
      "                                                                 \n",
      " conv2d_1 (Conv2D)           (None, 72, 72, 32)        9248      \n",
      "                                                                 \n",
      " activation_1 (Activation)   (None, 72, 72, 32)        0         \n",
      "                                                                 \n",
      " max_pooling2d_1 (MaxPooling  (None, 36, 36, 32)       0         \n",
      " 2D)                                                             \n",
      "                                                                 \n",
      " conv2d_2 (Conv2D)           (None, 34, 34, 64)        18496     \n",
      "                                                                 \n",
      " activation_2 (Activation)   (None, 34, 34, 64)        0         \n",
      "                                                                 \n",
      " max_pooling2d_2 (MaxPooling  (None, 17, 17, 64)       0         \n",
      " 2D)                                                             \n",
      "                                                                 \n",
      " conv2d_3 (Conv2D)           (None, 15, 15, 128)       73856     \n",
      "                                                                 \n",
      " activation_3 (Activation)   (None, 15, 15, 128)       0         \n",
      "                                                                 \n",
      " max_pooling2d_3 (MaxPooling  (None, 7, 7, 128)        0         \n",
      " 2D)                                                             \n",
      "                                                                 \n",
      " flatten (Flatten)           (None, 6272)              0         \n",
      "                                                                 \n",
      " dense (Dense)               (None, 64)                401472    \n",
      "                                                                 \n",
      " dense_1 (Dense)             (None, 128)               8320      \n",
      "                                                                 \n",
      " activation_4 (Activation)   (None, 128)               0         \n",
      "                                                                 \n",
      " dropout (Dropout)           (None, 128)               0         \n",
      "                                                                 \n",
      " dense_2 (Dense)             (None, 1)                 129       \n",
      "                                                                 \n",
      " activation_5 (Activation)   (None, 1)                 0         \n",
      "                                                                 \n",
      "=================================================================\n",
      "Total params: 512,417\n",
      "Trainable params: 512,417\n",
      "Non-trainable params: 0\n",
      "_________________________________________________________________\n"
     ]
    }
   ],
   "source": [
    "model = Sequential()\n",
    "model.add(Conv2D(32,(3,3), input_shape = input_shape))\n",
    "model.add(Activation('relu'))\n",
    "model.add(MaxPooling2D(pool_size=(2,2)))\n",
    "\n",
    "model.add(Conv2D(32,(3,3)))\n",
    "model.add(Activation('relu'))\n",
    "model.add(MaxPooling2D(pool_size=(2,2)))\n",
    "\n",
    "model.add(Conv2D(64,(3,3)))\n",
    "model.add(Activation('relu'))\n",
    "model.add(MaxPooling2D(pool_size=(2,2)))\n",
    "\n",
    "model.add(Conv2D(128,(3,3)))\n",
    "model.add(Activation('relu'))\n",
    "model.add(MaxPooling2D(pool_size=(2,2)))\n",
    "\n",
    "model.add(Flatten())\n",
    "model.add(Dense(64))\n",
    "model.add(Dense(128))\n",
    "model.add(Activation('relu'))\n",
    "model.add(Dropout(0.5))\n",
    "model.add(Dense(1))\n",
    "model.add(Activation('sigmoid'))\n",
    "\n",
    "model.summary()"
   ]
  },
  {
   "cell_type": "markdown",
   "id": "99d62957",
   "metadata": {},
   "source": [
    "The Model is then compiled with :\n",
    "\n",
    "- loss = binary_crossentropy\n",
    "- optimizer = adam\n",
    "- metrics = accuracy"
   ]
  },
  {
   "cell_type": "code",
   "execution_count": 7,
   "id": "adca40fb",
   "metadata": {},
   "outputs": [],
   "source": [
    "model.compile(loss='binary_crossentropy',optimizer='adam',metrics=['accuracy'])"
   ]
  },
  {
   "cell_type": "markdown",
   "id": "ebdea690",
   "metadata": {},
   "source": [
    "Model is then trained on the training data and the accuracy is measured on both the training and the validation dataset.\n",
    "The steps_per_epoch is the batch_size and the epochs is 100 as specified at the very start."
   ]
  },
  {
   "cell_type": "code",
   "execution_count": 8,
   "id": "352f1c15",
   "metadata": {},
   "outputs": [
    {
     "name": "stdout",
     "output_type": "stream",
     "text": [
      "Epoch 1/50\n"
     ]
    },
    {
     "name": "stderr",
     "output_type": "stream",
     "text": [
      "C:\\Users\\rajar\\AppData\\Local\\Temp\\ipykernel_3496\\2077240848.py:1: UserWarning: `Model.fit_generator` is deprecated and will be removed in a future version. Please use `Model.fit`, which supports generators.\n",
      "  hist = model.fit_generator(\n"
     ]
    },
    {
     "name": "stdout",
     "output_type": "stream",
     "text": [
      "400/400 [==============================] - 26s 60ms/step - loss: 0.5446 - accuracy: 0.7178 - val_loss: 0.3948 - val_accuracy: 0.8340\n",
      "Epoch 2/50\n",
      "400/400 [==============================] - 24s 59ms/step - loss: 0.4482 - accuracy: 0.8019 - val_loss: 0.3526 - val_accuracy: 0.8530\n",
      "Epoch 3/50\n",
      "400/400 [==============================] - 24s 60ms/step - loss: 0.4265 - accuracy: 0.8186 - val_loss: 0.3361 - val_accuracy: 0.8510\n",
      "Epoch 4/50\n",
      "400/400 [==============================] - 24s 59ms/step - loss: 0.4028 - accuracy: 0.8279 - val_loss: 0.3197 - val_accuracy: 0.8650\n",
      "Epoch 5/50\n",
      "400/400 [==============================] - 23s 59ms/step - loss: 0.3952 - accuracy: 0.8339 - val_loss: 0.3960 - val_accuracy: 0.8330\n",
      "Epoch 6/50\n",
      "400/400 [==============================] - 24s 59ms/step - loss: 0.3924 - accuracy: 0.8356 - val_loss: 0.3294 - val_accuracy: 0.8630\n",
      "Epoch 7/50\n",
      "400/400 [==============================] - 24s 59ms/step - loss: 0.3843 - accuracy: 0.8394 - val_loss: 0.3377 - val_accuracy: 0.8670\n",
      "Epoch 8/50\n",
      "400/400 [==============================] - 24s 59ms/step - loss: 0.3847 - accuracy: 0.8394 - val_loss: 0.3084 - val_accuracy: 0.8860\n",
      "Epoch 9/50\n",
      "400/400 [==============================] - 24s 59ms/step - loss: 0.3714 - accuracy: 0.8436 - val_loss: 0.3365 - val_accuracy: 0.8670\n",
      "Epoch 10/50\n",
      "400/400 [==============================] - 24s 61ms/step - loss: 0.3825 - accuracy: 0.8370 - val_loss: 0.4194 - val_accuracy: 0.8520\n",
      "Epoch 11/50\n",
      "400/400 [==============================] - 24s 60ms/step - loss: 0.3842 - accuracy: 0.8372 - val_loss: 0.3374 - val_accuracy: 0.8770\n",
      "Epoch 12/50\n",
      "400/400 [==============================] - 24s 60ms/step - loss: 0.3833 - accuracy: 0.8403 - val_loss: 0.3630 - val_accuracy: 0.8450\n",
      "Epoch 13/50\n",
      "400/400 [==============================] - 24s 61ms/step - loss: 0.3702 - accuracy: 0.8453 - val_loss: 0.3222 - val_accuracy: 0.8670\n",
      "Epoch 14/50\n",
      "400/400 [==============================] - 24s 60ms/step - loss: 0.3695 - accuracy: 0.8436 - val_loss: 0.3250 - val_accuracy: 0.8720\n",
      "Epoch 15/50\n",
      "400/400 [==============================] - 24s 59ms/step - loss: 0.3705 - accuracy: 0.8422 - val_loss: 0.3351 - val_accuracy: 0.8660\n",
      "Epoch 16/50\n",
      "400/400 [==============================] - 24s 59ms/step - loss: 0.3713 - accuracy: 0.8432 - val_loss: 0.3348 - val_accuracy: 0.8630\n",
      "Epoch 17/50\n",
      "400/400 [==============================] - 24s 59ms/step - loss: 0.3703 - accuracy: 0.8447 - val_loss: 0.3443 - val_accuracy: 0.8680\n",
      "Epoch 18/50\n",
      "400/400 [==============================] - 24s 59ms/step - loss: 0.3573 - accuracy: 0.8480 - val_loss: 0.3441 - val_accuracy: 0.8510\n",
      "Epoch 19/50\n",
      "400/400 [==============================] - 24s 60ms/step - loss: 0.3670 - accuracy: 0.8470 - val_loss: 0.2989 - val_accuracy: 0.8740\n",
      "Epoch 20/50\n",
      "400/400 [==============================] - 24s 60ms/step - loss: 0.3639 - accuracy: 0.8462 - val_loss: 0.4854 - val_accuracy: 0.8210\n",
      "Epoch 21/50\n",
      "400/400 [==============================] - 24s 59ms/step - loss: 0.3602 - accuracy: 0.8497 - val_loss: 0.3101 - val_accuracy: 0.8700\n",
      "Epoch 22/50\n",
      "400/400 [==============================] - 24s 59ms/step - loss: 0.3584 - accuracy: 0.8487 - val_loss: 0.3152 - val_accuracy: 0.8600\n",
      "Epoch 23/50\n",
      "400/400 [==============================] - 24s 59ms/step - loss: 0.3539 - accuracy: 0.8508 - val_loss: 0.3015 - val_accuracy: 0.8820\n",
      "Epoch 24/50\n",
      "400/400 [==============================] - 24s 59ms/step - loss: 0.3577 - accuracy: 0.8500 - val_loss: 0.3160 - val_accuracy: 0.8810\n",
      "Epoch 25/50\n",
      "400/400 [==============================] - 24s 60ms/step - loss: 0.3578 - accuracy: 0.8459 - val_loss: 0.3113 - val_accuracy: 0.8730\n",
      "Epoch 26/50\n",
      "400/400 [==============================] - 24s 60ms/step - loss: 0.3448 - accuracy: 0.8534 - val_loss: 0.2976 - val_accuracy: 0.8790\n",
      "Epoch 27/50\n",
      "400/400 [==============================] - 24s 61ms/step - loss: 0.3482 - accuracy: 0.8575 - val_loss: 0.3319 - val_accuracy: 0.8660\n",
      "Epoch 28/50\n",
      "400/400 [==============================] - 24s 60ms/step - loss: 0.3400 - accuracy: 0.8562 - val_loss: 0.3161 - val_accuracy: 0.8800\n",
      "Epoch 29/50\n",
      "400/400 [==============================] - 24s 59ms/step - loss: 0.3362 - accuracy: 0.8597 - val_loss: 0.3552 - val_accuracy: 0.8600\n",
      "Epoch 30/50\n",
      "400/400 [==============================] - 24s 60ms/step - loss: 0.3422 - accuracy: 0.8574 - val_loss: 0.3325 - val_accuracy: 0.8620\n",
      "Epoch 31/50\n",
      "400/400 [==============================] - 24s 59ms/step - loss: 0.3364 - accuracy: 0.8593 - val_loss: 0.3290 - val_accuracy: 0.8690\n",
      "Epoch 32/50\n",
      "400/400 [==============================] - 24s 59ms/step - loss: 0.3480 - accuracy: 0.8543 - val_loss: 0.2930 - val_accuracy: 0.8770\n",
      "Epoch 33/50\n",
      "400/400 [==============================] - 24s 59ms/step - loss: 0.3399 - accuracy: 0.8587 - val_loss: 0.3427 - val_accuracy: 0.8610\n",
      "Epoch 34/50\n",
      "400/400 [==============================] - 24s 59ms/step - loss: 0.3271 - accuracy: 0.8634 - val_loss: 0.3403 - val_accuracy: 0.8640\n",
      "Epoch 35/50\n",
      "400/400 [==============================] - 24s 59ms/step - loss: 0.3314 - accuracy: 0.8571 - val_loss: 0.3538 - val_accuracy: 0.8610\n",
      "Epoch 36/50\n",
      "400/400 [==============================] - 24s 59ms/step - loss: 0.3257 - accuracy: 0.8612 - val_loss: 0.3457 - val_accuracy: 0.8610\n",
      "Epoch 37/50\n",
      "400/400 [==============================] - 24s 59ms/step - loss: 0.3258 - accuracy: 0.8604 - val_loss: 0.3210 - val_accuracy: 0.8720\n",
      "Epoch 38/50\n",
      "400/400 [==============================] - 24s 59ms/step - loss: 0.3276 - accuracy: 0.8620 - val_loss: 0.3025 - val_accuracy: 0.8700\n",
      "Epoch 39/50\n",
      "400/400 [==============================] - 24s 59ms/step - loss: 0.3240 - accuracy: 0.8602 - val_loss: 0.3070 - val_accuracy: 0.8710\n",
      "Epoch 40/50\n",
      "400/400 [==============================] - 24s 59ms/step - loss: 0.3487 - accuracy: 0.8584 - val_loss: 0.3212 - val_accuracy: 0.8750\n",
      "Epoch 41/50\n",
      "400/400 [==============================] - 24s 61ms/step - loss: 0.3313 - accuracy: 0.8625 - val_loss: 0.3599 - val_accuracy: 0.8610\n",
      "Epoch 42/50\n",
      "400/400 [==============================] - 24s 59ms/step - loss: 0.3229 - accuracy: 0.8634 - val_loss: 0.4075 - val_accuracy: 0.8330\n",
      "Epoch 43/50\n",
      "400/400 [==============================] - 24s 59ms/step - loss: 0.3179 - accuracy: 0.8648 - val_loss: 0.3484 - val_accuracy: 0.8690\n",
      "Epoch 44/50\n",
      "400/400 [==============================] - 24s 60ms/step - loss: 0.3081 - accuracy: 0.8692 - val_loss: 0.4042 - val_accuracy: 0.8620\n",
      "Epoch 45/50\n",
      "400/400 [==============================] - 25s 62ms/step - loss: 0.3092 - accuracy: 0.8671 - val_loss: 0.3464 - val_accuracy: 0.8640\n",
      "Epoch 46/50\n",
      "400/400 [==============================] - 24s 60ms/step - loss: 0.3147 - accuracy: 0.8641 - val_loss: 0.3727 - val_accuracy: 0.8730\n",
      "Epoch 47/50\n",
      "400/400 [==============================] - 24s 59ms/step - loss: 0.3091 - accuracy: 0.8687 - val_loss: 0.3573 - val_accuracy: 0.8600\n",
      "Epoch 48/50\n",
      "400/400 [==============================] - 24s 60ms/step - loss: 0.3075 - accuracy: 0.8731 - val_loss: 0.3068 - val_accuracy: 0.8800\n",
      "Epoch 49/50\n",
      "400/400 [==============================] - 24s 60ms/step - loss: 0.3011 - accuracy: 0.8756 - val_loss: 0.4025 - val_accuracy: 0.8680\n",
      "Epoch 50/50\n",
      "400/400 [==============================] - 24s 60ms/step - loss: 0.3013 - accuracy: 0.8763 - val_loss: 0.3541 - val_accuracy: 0.8680\n"
     ]
    }
   ],
   "source": [
    "hist = model.fit_generator(\n",
    "    train_generator,\n",
    "    steps_per_epoch=nb_train_samples // batch_size,\n",
    "    epochs=epochs,\n",
    "    validation_data=val_generator,\n",
    "    validation_steps=nb_validation_samples // batch_size,\n",
    "    shuffle = True)"
   ]
  },
  {
   "cell_type": "markdown",
   "id": "3b170b70",
   "metadata": {},
   "source": [
    "Model is then evaluated on the training and validation dataset and the respective accuracy is displayed "
   ]
  },
  {
   "cell_type": "code",
   "execution_count": 9,
   "id": "aa89c0c5",
   "metadata": {},
   "outputs": [
    {
     "name": "stdout",
     "output_type": "stream",
     "text": [
      "400/400 [==============================] - 24s 59ms/step - loss: 0.2956 - accuracy: 0.8759\n",
      "100/100 [==============================] - 1s 10ms/step - loss: 0.3436 - accuracy: 0.8720\n"
     ]
    },
    {
     "data": {
      "text/plain": [
       "[0.3436296284198761, 0.871999979019165]"
      ]
     },
     "execution_count": 9,
     "metadata": {},
     "output_type": "execute_result"
    }
   ],
   "source": [
    "model.evaluate(train_generator)\n",
    "model.evaluate(val_generator)"
   ]
  },
  {
   "cell_type": "markdown",
   "id": "624b72fb",
   "metadata": {},
   "source": [
    "Now for image prediction, we import the image from the respective directory and specify a target size, the image is then converted into a numpy array which is then given to the prediction model."
   ]
  },
  {
   "cell_type": "code",
   "execution_count": 10,
   "id": "364eae99",
   "metadata": {
    "scrolled": true
   },
   "outputs": [
    {
     "data": {
      "text/plain": [
       "(1, 150, 150, 3)"
      ]
     },
     "execution_count": 10,
     "metadata": {},
     "output_type": "execute_result"
    }
   ],
   "source": [
    "img_pred = image.load_img('Dataset1/test/1_Cancer/10253_idx5_x801_y651_class1.png', target_size = (150,150))\n",
    "img_pred = image.img_to_array(img_pred)\n",
    "img_pred = np.expand_dims(img_pred, axis = 0)\n",
    "img_pred.shape"
   ]
  },
  {
   "cell_type": "markdown",
   "id": "8f077f07",
   "metadata": {},
   "source": [
    "If the prediction is 1 then it is a Cancer image, if the prediction is 0 then it is a Non Cancer image."
   ]
  },
  {
   "cell_type": "code",
   "execution_count": 11,
   "id": "0876d692",
   "metadata": {},
   "outputs": [
    {
     "name": "stdout",
     "output_type": "stream",
     "text": [
      "Cancer\n"
     ]
    }
   ],
   "source": [
    "pred = model.predict(img_pred)\n",
    "if pred[0][0] == 1:\n",
    "    prediction = \"Cancer\"\n",
    "else:\n",
    "    prediction = \"No Cancer\"\n",
    "\n",
    "print (prediction)"
   ]
  },
  {
   "cell_type": "markdown",
   "id": "778ec57d",
   "metadata": {},
   "source": [
    "The prediction given by this model is correct, we will now be saving the model weights for future purposes so that we do not have to retrain it."
   ]
  },
  {
   "cell_type": "code",
   "execution_count": 12,
   "id": "014c1d68",
   "metadata": {},
   "outputs": [],
   "source": [
    "model.save_weights('cnn.h5')"
   ]
  },
  {
   "cell_type": "markdown",
   "id": "e47b9e28",
   "metadata": {},
   "source": [
    "Now we plot the Validation and Training loss and Validation and Training Accuracy"
   ]
  },
  {
   "cell_type": "code",
   "execution_count": 13,
   "id": "2f4842ea",
   "metadata": {},
   "outputs": [
    {
     "data": {
      "image/png": "[encoded data removed]",
      "text/plain": [
       "<Figure size 432x288 with 1 Axes>"
      ]
     },
     "metadata": {
      "needs_background": "light"
     },
     "output_type": "display_data"
    },
    {
     "data": {
      "image/png": "[encoded data removed]",
      "text/plain": [
       "<Figure size 432x288 with 1 Axes>"
      ]
     },
     "metadata": {
      "needs_background": "light"
     },
     "output_type": "display_data"
    },
    {
     "data": {
      "text/plain": [
       "<Figure size 432x288 with 0 Axes>"
      ]
     },
     "metadata": {},
     "output_type": "display_data"
    }
   ],
   "source": [
    "import matplotlib.pyplot as plt \n",
    "\n",
    "plt.plot(hist.history['loss'],label='train_loss')\n",
    "plt.plot(hist.history['val_loss'],label='val loss')\n",
    "plt.legend()\n",
    "plt.show()\n",
    "plt.savefig('LossVal_loss')\n",
    "\n",
    "plt.plot(hist.history['accuracy'],label='train_acc')\n",
    "plt.plot(hist.history['val_accuracy'],label='val acc')\n",
    "plt.legend()\n",
    "plt.show()\n",
    "plt.savefig('AccVal_loss')"
   ]
  },
  {
   "cell_type": "markdown",
   "id": "c86d4591",
   "metadata": {},
   "source": [
    "**VGG-16 IMPLEMENTATION**"
   ]
  },
  {
   "cell_type": "code",
   "execution_count": null,
   "id": "df00488b",
   "metadata": {},
   "outputs": [],
   "source": []
  }
 ],
 "metadata": {
  "kernelspec": {
   "display_name": "Python 3 (ipykernel)",
   "language": "python",
   "name": "python3"
  },
  "language_info": {
   "codemirror_mode": {
    "name": "ipython",
    "version": 3
   },
   "file_extension": ".py",
   "mimetype": "text/x-python",
   "name": "python",
   "nbconvert_exporter": "python",
   "pygments_lexer": "ipython3",
   "version": "3.9.0"
  }
 },
 "nbformat": 4,
 "nbformat_minor": 5
}
